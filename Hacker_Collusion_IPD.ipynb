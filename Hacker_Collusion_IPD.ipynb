{
 "cells": [
  {
   "cell_type": "code",
   "execution_count": 1,
   "id": "0cc5472a",
   "metadata": {},
   "outputs": [],
   "source": [
    "\"\"\"\n",
    "This part of code is the Q learning brain, which is a brain of the agent.\n",
    "All decisions are made in here.\n",
    "\n",
    "View more ``on my tutorial page: https://morvanzhou.github.io/tutorials/\n",
    "\"\"\"\n",
    "import numpy as np\n",
    "import pandas as pd\n",
    "import warnings\n",
    "warnings.simplefilter(action='ignore', category=FutureWarning)"
   ]
  },
  {
   "cell_type": "code",
   "execution_count": 2,
   "id": "37676c67",
   "metadata": {},
   "outputs": [],
   "source": [
    "class QLearningTable:\n",
    "    def __init__(self,learning_rate=0.05, reward_decay=0.9, e_greedy=0.3):\n",
    "        self.actions = [\"c\",\"d\"] \n",
    "        self.lr = learning_rate\n",
    "        self.gamma = reward_decay\n",
    "        self.epsilon = e_greedy\n",
    "        self.q_table = pd.DataFrame(columns=self.actions, dtype=np.float64)\n",
    "\n",
    "    def choose_action(self, observation,g):\n",
    "        self.check_state_exist(observation,g)\n",
    "        # action selection\n",
    "        if np.random.uniform(0,1) > self.epsilon:\n",
    "            # choose best action\n",
    "            state_action = self.q_table.loc[observation, :]\n",
    "            # some actions may have the same value, randomly choose on in these actions\n",
    "            action = np.random.choice(state_action[state_action == np.max(state_action)].index)\n",
    "        else:\n",
    "            # choose random action\n",
    "            action = np.random.choice(self.actions)\n",
    "        return action\n",
    "    \n",
    "    def learn(self,current_state,action,g,next_state,reward):\n",
    "        self.check_state_exist(next_state,g)\n",
    "        q_predict = self.q_table.loc[current_state, action]\n",
    "        q_target = q_predict + self.lr*(reward + self.gamma*np.max(self.q_table.loc[next_state,:]) - q_predict )\n",
    "#         if action == \"c\":\n",
    "#             q_target = q_predict + self.lr*(1- self.epsilon/2)*((1- self.epsilon/2)*2*g + self.epsilon/2 * g + (self.gamma - 1)*q_predict)\n",
    "#         elif action == \"d\":\n",
    "#             q_target = q_predict + self.lr* self.epsilon/2 *((1- self.epsilon/2)*(2+g) + self.epsilon * g + (self.gamma*self.q_table.loc[next_state, \"c\"] - self.q_table.loc[next_state, action]))\n",
    "\n",
    "        \n",
    "        \n",
    "        self.q_table.loc[current_state,action] = q_target\n",
    "\n",
    "    def check_state_exist(self, state,g):\n",
    "        if state not in self.q_table.index:\n",
    "            # append new state to q table\n",
    "            self.q_table = self.q_table.append(\n",
    "                pd.Series(\n",
    "                    [2*g/(1-self.gamma)]*len(self.actions),\n",
    "                    index=self.q_table.columns,\n",
    "                    name=state,\n",
    "                )\n",
    "            )"
   ]
  },
  {
   "cell_type": "code",
   "execution_count": null,
   "id": "5460019a",
   "metadata": {},
   "outputs": [],
   "source": [
    "#create the environment for IPD and run the experiment and plot the graphs. \n",
    "import pdb\n",
    "# g = 1.8\n",
    "\n",
    "\n",
    "def collect(observation,store_dict):\n",
    "    if observation not in store_dict:\n",
    "        store_dict[observation] = 1\n",
    "    else: \n",
    "        store_dict[observation]+=1\n",
    "\n",
    "def reward_joint(action1,action2,g):\n",
    "    payoff_matrix = {\n",
    "                     \"cc\": [2*g,2*g],\n",
    "                     \"cd\":[g,2+g],\n",
    "                     \"dc\": [2+g,g],\n",
    "                     \"dd\":[2,2]\n",
    "                    }\n",
    "    return payoff_matrix[action1 + action2]\n",
    "    \n",
    "def update(g):\n",
    "    state_data = {}\n",
    "    action1_data = {}\n",
    "    action2_data = {}\n",
    "    q_learning_1 = []\n",
    "    q_learning_2 = []\n",
    "    for episode in range(10):\n",
    "        # initial observation\n",
    "\n",
    "        agent1 = QLearningTable()\n",
    "        agent2 = QLearningTable()\n",
    "        observation = \"cc\"\n",
    "    #     pdb.set_trace()\n",
    "        for iterations in range(100000):\n",
    "\n",
    "            # RL choose action based on observation\n",
    "            action1 = agent1.choose_action(str(observation),g)\n",
    "            action2 = agent2.choose_action(str(observation),g)\n",
    "            \n",
    "            collect(action1,action1_data)\n",
    "            collect(action2,action2_data)\n",
    "\n",
    "            # RL take action and get next observation and reward\n",
    "            observation_ = action1 + action2\n",
    "            reward = reward_joint(action1,action2,g)\n",
    "    #         pdb.set_trace()\n",
    "            # RL learn from this transition\n",
    "            agent1.learn(str(observation), action1,g,str(observation_),reward[0])\n",
    "            agent2.learn(str(observation), action2,g,str(observation_),reward[1])\n",
    "\n",
    "            # swap observation\n",
    "            observation = observation_\n",
    "            collect(observation,state_data)\n",
    "            if episode == 9: \n",
    "                q_learning_1.append(agent1.q_table)\n",
    "                q_learning_2.append(agent2.q_table)\n",
    "            \n",
    "\n",
    "            # break while loop when end of this episode\n",
    "    #             if done:\n",
    "    #                 break\n",
    "        print(f\"Game {episode} ends in state {observation} for player 1 and player 2\")\n",
    "\n",
    "    print(state_data)\n",
    "    g_state_data[g] = state_data\n",
    "    g_action1_data[g] = action1_data\n",
    "    g_action2_data[g] = action2_data\n",
    "    g_qlearning1_data[g] = q_learning_1\n",
    "    g_qlearning2_data[g] = q_learning_2\n",
    "    # end of game\n",
    "    print('game over')\n"
   ]
  },
  {
   "cell_type": "code",
   "execution_count": null,
   "id": "b62ea90a",
   "metadata": {},
   "outputs": [],
   "source": [
    "g_state_data = {}\n",
    "g_action1_data = {}\n",
    "g_action2_data = {}\n",
    "g_qlearning1_data = {}\n",
    "g_qlearning2_data = {}"
   ]
  },
  {
   "cell_type": "code",
   "execution_count": null,
   "id": "e5f1f95a",
   "metadata": {},
   "outputs": [],
   "source": [
    "from multiprocessing import Pool\n",
    "\n",
    "if __name__ == '__main__':\n",
    "    with Pool(4) as p:\n",
    "        print(p.map(update, [1.2,1.4,1.6,1.8]))"
   ]
  },
  {
   "cell_type": "code",
   "execution_count": 46,
   "id": "6506348a",
   "metadata": {},
   "outputs": [
    {
     "name": "stdout",
     "output_type": "stream",
     "text": [
      "Game 0 ends in state cc for player 1 and player 2\n",
      "Game 1 ends in state cd for player 1 and player 2\n",
      "Game 2 ends in state cc for player 1 and player 2\n",
      "Game 3 ends in state cc for player 1 and player 2\n",
      "Game 4 ends in state cc for player 1 and player 2\n",
      "Game 5 ends in state cc for player 1 and player 2\n",
      "Game 6 ends in state cc for player 1 and player 2\n",
      "Game 7 ends in state cc for player 1 and player 2\n",
      "Game 8 ends in state cc for player 1 and player 2\n",
      "Game 9 ends in state cc for player 1 and player 2\n",
      "{'dd': 68880, 'cc': 640810, 'dc': 147742, 'cd': 142568}\n",
      "game over\n"
     ]
    }
   ],
   "source": [
    "# update(2)"
   ]
  },
  {
   "cell_type": "code",
   "execution_count": 48,
   "id": "b5a7928f",
   "metadata": {},
   "outputs": [],
   "source": [
    "g_list = list(g_state_data)\n",
    "\n",
    "fraction = []\n",
    "\n",
    "for k,x in g_state_data.items():\n",
    "#     print(x['dd'] + x['dc'] + x['cd'] + x['cc'])\n",
    "    fraction.append(x['dd']*100/(x['dd'] + x['dc'] + x['cd'] + x['cc']))"
   ]
  },
  {
   "cell_type": "markdown",
   "id": "112b773e",
   "metadata": {},
   "source": [
    "Fraction of runs where the agents learn the Nash Equilibrium {D,D}. "
   ]
  },
  {
   "cell_type": "markdown",
   "id": "5da0c75e",
   "metadata": {},
   "source": [
    "Fraction of time where cooperation is a player’s preferred action in a single run for various values of g."
   ]
  },
  {
   "cell_type": "markdown",
   "id": "a0e4f1f8",
   "metadata": {},
   "source": [
    "Q_value obtained by player 1 for g 1.8"
   ]
  },
  {
   "cell_type": "markdown",
   "id": "7d463f82",
   "metadata": {},
   "source": [
    "Q_value obtained by player 2 for g 1.8"
   ]
  },
  {
   "cell_type": "code",
   "execution_count": 59,
   "id": "258e8f3b",
   "metadata": {},
   "outputs": [
    {
     "data": {
      "image/png": "[encoded data removed]",
      "text/plain": [
       "<Figure size 432x288 with 1 Axes>"
      ]
     },
     "metadata": {
      "needs_background": "light"
     },
     "output_type": "display_data"
    }
   ],
   "source": [
    "import matplotlib.pyplot as plt\n",
    "fig = plt.figure()\n",
    "# ax = fig.add_axes([0,0,1,1])\n",
    "labels = ['1', '1.2', '1.4', '1.6', '1.8','2']\n",
    "plt.xticks(range(len(fraction)), labels)\n",
    "plt.ylim([0,100])\n",
    "plt.xlabel('values of g')\n",
    "plt.ylabel('Fraction (%)')\n",
    "plt.title('Fraction of runs where the agents learn the Nash Equilibrium {D,D}.')\n",
    "plt.bar(range(len(fraction)), fraction) \n",
    "plt.show()\n",
    "# plt.xlim([1, 2])\n",
    "# plt.ylim([0,100])\n",
    "# plt.bar(fraction)\n",
    "\n",
    "# plt.s\n",
    "# how()"
   ]
  },
  {
   "cell_type": "code",
   "execution_count": 62,
   "id": "56c758a2",
   "metadata": {},
   "outputs": [],
   "source": [
    "fraction_action_c = []\n",
    "for k,v in g_action1_data.items():\n",
    "    fraction_action_c.append(v['c']/(v['c']+v['d']))"
   ]
  },
  {
   "cell_type": "code",
   "execution_count": 65,
   "id": "14830c77",
   "metadata": {},
   "outputs": [
    {
     "data": {
      "image/png": "[encoded data removed]",
      "text/plain": [
       "<Figure size 432x288 with 1 Axes>"
      ]
     },
     "metadata": {
      "needs_background": "light"
     },
     "output_type": "display_data"
    }
   ],
   "source": [
    "fig = plt.figure()\n",
    "# ax = fig.add_axes([0,0,1,1])\n",
    "labels = ['1', '1.2', '1.4', '1.6', '1.8','2']\n",
    "plt.xticks(range(len(fraction_action_c)), labels)\n",
    "plt.ylim([0,1])\n",
    "plt.xlabel('values of g')\n",
    "plt.ylabel('Fraction (%)')\n",
    "plt.title('Fraction of time where cooperation is a player’s preferred action in a single run for various values of g.')\n",
    "plt.bar(range(len(fraction_action_c)), fraction_action_c) \n",
    "plt.show()"
   ]
  },
  {
   "cell_type": "code",
   "execution_count": 81,
   "id": "5858356b",
   "metadata": {},
   "outputs": [],
   "source": [
    "list_q_value_1 = []\n",
    "for x in g_qlearning1_data[1.8]: \n",
    "    list_q_value_1.append(np.max(x[\"c\"]))\n",
    "\n",
    "q_compress = []\n",
    "time = []\n",
    "for x in range(50):\n",
    "    q_compress.append(list_q_value_1[20000*x])\n",
    "    time.append(20000*x)\n",
    "    \n",
    "\n",
    "x = np.linspace(0,len(time))"
   ]
  },
  {
   "cell_type": "code",
   "execution_count": 112,
   "id": "8360cef5",
   "metadata": {},
   "outputs": [
    {
     "data": {
      "image/png": "[encoded data removed]",
      "text/plain": [
       "<Figure size 432x288 with 1 Axes>"
      ]
     },
     "metadata": {
      "needs_background": "light"
     },
     "output_type": "display_data"
    }
   ],
   "source": [
    "# plt.xticks(np.arange(len(list_q_value_1))\n",
    "plt.xlabel('Time')\n",
    "plt.ylabel('Q value')\n",
    "plt.title(\"Evolution of the Q value player 1 maximising for cooperation over the statefor g=1.8\")\n",
    "plt.plot(x,q_compress, linestyle = 'dotted')\n",
    "plt.show()"
   ]
  },
  {
   "cell_type": "code",
   "execution_count": null,
   "id": "936b9028",
   "metadata": {},
   "outputs": [],
   "source": []
  }
 ],
 "metadata": {
  "kernelspec": {
   "display_name": "pt",
   "language": "python",
   "name": "pt"
  },
  "language_info": {
   "codemirror_mode": {
    "name": "ipython",
    "version": 3
   },
   "file_extension": ".py",
   "mimetype": "text/x-python",
   "name": "python",
   "nbconvert_exporter": "python",
   "pygments_lexer": "ipython3",
   "version": "3.9.12"
  }
 },
 "nbformat": 4,
 "nbformat_minor": 5
}
